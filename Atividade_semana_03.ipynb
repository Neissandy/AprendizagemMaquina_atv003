{
  "nbformat": 4,
  "nbformat_minor": 0,
  "metadata": {
    "colab": {
      "name": "Atividade semana 03",
      "provenance": [],
      "collapsed_sections": [],
      "authorship_tag": "ABX9TyNRkSlazN7ty17dcJKhASsM",
      "include_colab_link": true
    },
    "kernelspec": {
      "name": "python3",
      "display_name": "Python 3"
    }
  },
  "cells": [
    {
      "cell_type": "markdown",
      "metadata": {
        "id": "view-in-github",
        "colab_type": "text"
      },
      "source": [
        "<a href=\"https://colab.research.google.com/github/Neissandy/AprendizagemMaquina_atv003/blob/master/Atividade_semana_03.ipynb\" target=\"_parent\"><img src=\"https://colab.research.google.com/assets/colab-badge.svg\" alt=\"Open In Colab\"/></a>"
      ]
    },
    {
      "cell_type": "markdown",
      "metadata": {
        "id": "HcsPLCqF78sX",
        "colab_type": "text"
      },
      "source": [
        "# **Conjunto de dados de doenças cardiovasculares**\n",
        "\n",
        "Link do dataset GitHub: https://www.kaggle.com/sulianova/cardiovascular-disease-dataset\n",
        "\n",
        "Exercício baseado no passo a passo da aula prática 02/09. As análises e interpretações dos resultados obtidos estão descritos ao decorrer da atividade.\n",
        "\n",
        "O Dataset foi reduzido de 70000 para 10000 instâncias. Essa modificação foi realizada com o objetivo de reduzir o tempo de execução dos códigos, ou seja, apenas para realização da atividade. \n",
        "\n",
        "\n",
        "**Recursos**:\n",
        "1. Idade | Recurso objetivo | idade | int (dias)\n",
        "2. Gênero | Recurso objetivo | gênero | código categórico |\n",
        "3. Altura | Recurso objetivo | altura | int (cm) |\n",
        "4. Peso | Recurso objetivo | peso | flutuador (kg) |\n",
        "\n",
        "5. Pressão arterial sistólica | Recurso de exame | ap_hi | int |\n",
        "6. Pressão arterial diastólica | Recurso de exame | ap_lo | int |\n",
        "7. Colesterol | Recurso de exame | colesterol | 1: normal, 2: acima do normal, 3: muito acima do normal |\n",
        "8. Glicose | Recurso de exame | gluc | 1: normal, 2: acima do normal, 3: muito acima do normal |\n",
        "9. Fumar | Característica subjetiva | fumaça | binário |\n",
        "10. Ingestão de álcool | Característica subjetiva | alco | binário |\n",
        "11. Atividade física | Característica subjetiva | ativo | binário |\n",
        "12. Presença ou ausência de doença cardiovascular | Variável de destino | cardio | binário |\n",
        "\n",
        "**Objetivo:** Pacientes que apresentam ou não doença cardiovascular."
      ]
    },
    {
      "cell_type": "markdown",
      "metadata": {
        "id": "__69aBunEaVz",
        "colab_type": "text"
      },
      "source": [
        "# **Classificação com Redes Neurais**\n"
      ]
    },
    {
      "cell_type": "markdown",
      "metadata": {
        "id": "1OOkAzj988Pe",
        "colab_type": "text"
      },
      "source": [
        "# 1. Importando bibliotecas necessárias"
      ]
    },
    {
      "cell_type": "code",
      "metadata": {
        "id": "T6eXkMny9MjY",
        "colab_type": "code",
        "colab": {}
      },
      "source": [
        "#Importando bibliotecas\n",
        "import pandas as pd\n",
        "import numpy as npS\n",
        "import matplotlib.pyplot as plt\n",
        "import seaborn as sns\n",
        "from sklearn.model_selection import train_test_split\n",
        "from sklearn.neural_network import MLPClassifier\n",
        "from sklearn.model_selection import GridSearchCV\n",
        "from sklearn.metrics  import roc_curve\n",
        "from sklearn.tree import DecisionTreeClassifier\n",
        "from sklearn.ensemble import RandomForestClassifier\n",
        "from sklearn.metrics import accuracy_score\n",
        "from sklearn.metrics import recall_score\n",
        "from sklearn.metrics import f1_score\n",
        "from sklearn.metrics import precision_score\n",
        "from sklearn.metrics import roc_auc_score\n"
      ],
      "execution_count": null,
      "outputs": []
    },
    {
      "cell_type": "markdown",
      "metadata": {
        "id": "Kyj0e5-RE14y",
        "colab_type": "text"
      },
      "source": [
        "# 2. Preparando Dados"
      ]
    },
    {
      "cell_type": "code",
      "metadata": {
        "id": "wZ79rMDUE4jj",
        "colab_type": "code",
        "colab": {
          "base_uri": "https://localhost:8080/",
          "height": 202
        },
        "outputId": "f4fa18ce-cb0e-4543-fe72-dc2f15b03d20"
      },
      "source": [
        "#Lendo csv e armazenando em um dataframe\n",
        "dados = pd.read_csv('/content/cardio_trainTESTE1.csv')\n",
        "dados.head()"
      ],
      "execution_count": null,
      "outputs": [
        {
          "output_type": "execute_result",
          "data": {
            "text/html": [
              "<div>\n",
              "<style scoped>\n",
              "    .dataframe tbody tr th:only-of-type {\n",
              "        vertical-align: middle;\n",
              "    }\n",
              "\n",
              "    .dataframe tbody tr th {\n",
              "        vertical-align: top;\n",
              "    }\n",
              "\n",
              "    .dataframe thead th {\n",
              "        text-align: right;\n",
              "    }\n",
              "</style>\n",
              "<table border=\"1\" class=\"dataframe\">\n",
              "  <thead>\n",
              "    <tr style=\"text-align: right;\">\n",
              "      <th></th>\n",
              "      <th>id</th>\n",
              "      <th>age</th>\n",
              "      <th>gender</th>\n",
              "      <th>height</th>\n",
              "      <th>weight</th>\n",
              "      <th>ap_hi</th>\n",
              "      <th>ap_lo</th>\n",
              "      <th>cholesterol</th>\n",
              "      <th>gluc</th>\n",
              "      <th>smoke</th>\n",
              "      <th>alco</th>\n",
              "      <th>active</th>\n",
              "      <th>cardio</th>\n",
              "    </tr>\n",
              "  </thead>\n",
              "  <tbody>\n",
              "    <tr>\n",
              "      <th>0</th>\n",
              "      <td>0</td>\n",
              "      <td>18393</td>\n",
              "      <td>2</td>\n",
              "      <td>168</td>\n",
              "      <td>62.0</td>\n",
              "      <td>110</td>\n",
              "      <td>80</td>\n",
              "      <td>1</td>\n",
              "      <td>1</td>\n",
              "      <td>0</td>\n",
              "      <td>0</td>\n",
              "      <td>1</td>\n",
              "      <td>0</td>\n",
              "    </tr>\n",
              "    <tr>\n",
              "      <th>1</th>\n",
              "      <td>1</td>\n",
              "      <td>20228</td>\n",
              "      <td>1</td>\n",
              "      <td>156</td>\n",
              "      <td>85.0</td>\n",
              "      <td>140</td>\n",
              "      <td>90</td>\n",
              "      <td>3</td>\n",
              "      <td>1</td>\n",
              "      <td>0</td>\n",
              "      <td>0</td>\n",
              "      <td>1</td>\n",
              "      <td>1</td>\n",
              "    </tr>\n",
              "    <tr>\n",
              "      <th>2</th>\n",
              "      <td>2</td>\n",
              "      <td>18857</td>\n",
              "      <td>1</td>\n",
              "      <td>165</td>\n",
              "      <td>64.0</td>\n",
              "      <td>130</td>\n",
              "      <td>70</td>\n",
              "      <td>3</td>\n",
              "      <td>1</td>\n",
              "      <td>0</td>\n",
              "      <td>0</td>\n",
              "      <td>0</td>\n",
              "      <td>1</td>\n",
              "    </tr>\n",
              "    <tr>\n",
              "      <th>3</th>\n",
              "      <td>3</td>\n",
              "      <td>17623</td>\n",
              "      <td>2</td>\n",
              "      <td>169</td>\n",
              "      <td>82.0</td>\n",
              "      <td>150</td>\n",
              "      <td>100</td>\n",
              "      <td>1</td>\n",
              "      <td>1</td>\n",
              "      <td>0</td>\n",
              "      <td>0</td>\n",
              "      <td>1</td>\n",
              "      <td>1</td>\n",
              "    </tr>\n",
              "    <tr>\n",
              "      <th>4</th>\n",
              "      <td>4</td>\n",
              "      <td>17474</td>\n",
              "      <td>1</td>\n",
              "      <td>156</td>\n",
              "      <td>56.0</td>\n",
              "      <td>100</td>\n",
              "      <td>60</td>\n",
              "      <td>1</td>\n",
              "      <td>1</td>\n",
              "      <td>0</td>\n",
              "      <td>0</td>\n",
              "      <td>0</td>\n",
              "      <td>0</td>\n",
              "    </tr>\n",
              "  </tbody>\n",
              "</table>\n",
              "</div>"
            ],
            "text/plain": [
              "   id    age  gender  height  weight  ...  gluc  smoke  alco  active  cardio\n",
              "0   0  18393       2     168    62.0  ...     1      0     0       1       0\n",
              "1   1  20228       1     156    85.0  ...     1      0     0       1       1\n",
              "2   2  18857       1     165    64.0  ...     1      0     0       0       1\n",
              "3   3  17623       2     169    82.0  ...     1      0     0       1       1\n",
              "4   4  17474       1     156    56.0  ...     1      0     0       0       0\n",
              "\n",
              "[5 rows x 13 columns]"
            ]
          },
          "metadata": {
            "tags": []
          },
          "execution_count": 2
        }
      ]
    },
    {
      "cell_type": "code",
      "metadata": {
        "id": "c-nXgGTyGSfT",
        "colab_type": "code",
        "colab": {
          "base_uri": "https://localhost:8080/",
          "height": 34
        },
        "outputId": "4ad308a8-1a4c-431c-9632-e64fc0bdb144"
      },
      "source": [
        "#Verificando quantidade de linhas e colunas de toda a base de dados\n",
        "dados.shape"
      ],
      "execution_count": null,
      "outputs": [
        {
          "output_type": "execute_result",
          "data": {
            "text/plain": [
              "(9999, 13)"
            ]
          },
          "metadata": {
            "tags": []
          },
          "execution_count": 3
        }
      ]
    },
    {
      "cell_type": "code",
      "metadata": {
        "id": "5VkiUtEJKWIC",
        "colab_type": "code",
        "colab": {
          "base_uri": "https://localhost:8080/",
          "height": 69
        },
        "outputId": "1ceaa793-6102-4974-90b8-5e21453d9b90"
      },
      "source": [
        "#verificando colunas dos dados\n",
        "dados.columns"
      ],
      "execution_count": null,
      "outputs": [
        {
          "output_type": "execute_result",
          "data": {
            "text/plain": [
              "Index(['id', 'age', 'gender', 'height', 'weight', 'ap_hi', 'ap_lo',\n",
              "       'cholesterol', 'gluc', 'smoke', 'alco', 'active', 'cardio'],\n",
              "      dtype='object')"
            ]
          },
          "metadata": {
            "tags": []
          },
          "execution_count": 6
        }
      ]
    },
    {
      "cell_type": "markdown",
      "metadata": {
        "id": "NDlBMq7aLhb3",
        "colab_type": "text"
      },
      "source": [
        "# 3. Iniciando limpeza de dados"
      ]
    },
    {
      "cell_type": "code",
      "metadata": {
        "id": "fpjrp88GKwPc",
        "colab_type": "code",
        "colab": {}
      },
      "source": [
        "#Verificar se existem valores NAN, ? ou dados faltantes\n",
        "dados = dados.dropna()"
      ],
      "execution_count": null,
      "outputs": []
    },
    {
      "cell_type": "code",
      "metadata": {
        "id": "4Y-cwU1SMDta",
        "colab_type": "code",
        "colab": {}
      },
      "source": [
        "#Excluir colunas irrelevantes\n",
        "dados = dados.drop(columns=['id'])"
      ],
      "execution_count": null,
      "outputs": []
    },
    {
      "cell_type": "code",
      "metadata": {
        "id": "O_Byo5IcjZEt",
        "colab_type": "code",
        "colab": {
          "base_uri": "https://localhost:8080/",
          "height": 202
        },
        "outputId": "1d79c4c7-6d62-44e6-a049-4146f863ee49"
      },
      "source": [
        "dados.head()"
      ],
      "execution_count": null,
      "outputs": [
        {
          "output_type": "execute_result",
          "data": {
            "text/html": [
              "<div>\n",
              "<style scoped>\n",
              "    .dataframe tbody tr th:only-of-type {\n",
              "        vertical-align: middle;\n",
              "    }\n",
              "\n",
              "    .dataframe tbody tr th {\n",
              "        vertical-align: top;\n",
              "    }\n",
              "\n",
              "    .dataframe thead th {\n",
              "        text-align: right;\n",
              "    }\n",
              "</style>\n",
              "<table border=\"1\" class=\"dataframe\">\n",
              "  <thead>\n",
              "    <tr style=\"text-align: right;\">\n",
              "      <th></th>\n",
              "      <th>age</th>\n",
              "      <th>gender</th>\n",
              "      <th>height</th>\n",
              "      <th>weight</th>\n",
              "      <th>ap_hi</th>\n",
              "      <th>ap_lo</th>\n",
              "      <th>cholesterol</th>\n",
              "      <th>gluc</th>\n",
              "      <th>smoke</th>\n",
              "      <th>alco</th>\n",
              "      <th>active</th>\n",
              "      <th>cardio</th>\n",
              "    </tr>\n",
              "  </thead>\n",
              "  <tbody>\n",
              "    <tr>\n",
              "      <th>0</th>\n",
              "      <td>18393</td>\n",
              "      <td>2</td>\n",
              "      <td>168</td>\n",
              "      <td>62.0</td>\n",
              "      <td>110</td>\n",
              "      <td>80</td>\n",
              "      <td>1</td>\n",
              "      <td>1</td>\n",
              "      <td>0</td>\n",
              "      <td>0</td>\n",
              "      <td>1</td>\n",
              "      <td>0</td>\n",
              "    </tr>\n",
              "    <tr>\n",
              "      <th>1</th>\n",
              "      <td>20228</td>\n",
              "      <td>1</td>\n",
              "      <td>156</td>\n",
              "      <td>85.0</td>\n",
              "      <td>140</td>\n",
              "      <td>90</td>\n",
              "      <td>3</td>\n",
              "      <td>1</td>\n",
              "      <td>0</td>\n",
              "      <td>0</td>\n",
              "      <td>1</td>\n",
              "      <td>1</td>\n",
              "    </tr>\n",
              "    <tr>\n",
              "      <th>2</th>\n",
              "      <td>18857</td>\n",
              "      <td>1</td>\n",
              "      <td>165</td>\n",
              "      <td>64.0</td>\n",
              "      <td>130</td>\n",
              "      <td>70</td>\n",
              "      <td>3</td>\n",
              "      <td>1</td>\n",
              "      <td>0</td>\n",
              "      <td>0</td>\n",
              "      <td>0</td>\n",
              "      <td>1</td>\n",
              "    </tr>\n",
              "    <tr>\n",
              "      <th>3</th>\n",
              "      <td>17623</td>\n",
              "      <td>2</td>\n",
              "      <td>169</td>\n",
              "      <td>82.0</td>\n",
              "      <td>150</td>\n",
              "      <td>100</td>\n",
              "      <td>1</td>\n",
              "      <td>1</td>\n",
              "      <td>0</td>\n",
              "      <td>0</td>\n",
              "      <td>1</td>\n",
              "      <td>1</td>\n",
              "    </tr>\n",
              "    <tr>\n",
              "      <th>4</th>\n",
              "      <td>17474</td>\n",
              "      <td>1</td>\n",
              "      <td>156</td>\n",
              "      <td>56.0</td>\n",
              "      <td>100</td>\n",
              "      <td>60</td>\n",
              "      <td>1</td>\n",
              "      <td>1</td>\n",
              "      <td>0</td>\n",
              "      <td>0</td>\n",
              "      <td>0</td>\n",
              "      <td>0</td>\n",
              "    </tr>\n",
              "  </tbody>\n",
              "</table>\n",
              "</div>"
            ],
            "text/plain": [
              "     age  gender  height  weight  ap_hi  ...  gluc  smoke  alco  active  cardio\n",
              "0  18393       2     168    62.0    110  ...     1      0     0       1       0\n",
              "1  20228       1     156    85.0    140  ...     1      0     0       1       1\n",
              "2  18857       1     165    64.0    130  ...     1      0     0       0       1\n",
              "3  17623       2     169    82.0    150  ...     1      0     0       1       1\n",
              "4  17474       1     156    56.0    100  ...     1      0     0       0       0\n",
              "\n",
              "[5 rows x 12 columns]"
            ]
          },
          "metadata": {
            "tags": []
          },
          "execution_count": 6
        }
      ]
    },
    {
      "cell_type": "markdown",
      "metadata": {
        "id": "-y-_iyf5N83x",
        "colab_type": "text"
      },
      "source": [
        "# 4. Análise preliminar dos dados\n",
        "\n",
        "Na atividade anterior, essa etapa não foi realizada. Além disso, a acurácia da árvore de decisão com e sem Random Forest foi baixa. Diante desses dois fatos, a análise preliminar dos dados de pacientes com doença cardiovascular será realizado. "
      ]
    },
    {
      "cell_type": "code",
      "metadata": {
        "id": "QlxCrHOwM15F",
        "colab_type": "code",
        "colab": {
          "base_uri": "https://localhost:8080/",
          "height": 52
        },
        "outputId": "f09696d6-c29b-48ad-92d3-58501ff47787"
      },
      "source": [
        "#Verificando quantos pacientes tem alguma doença cardiovascular\n",
        "print('chance de doença cardíaca:',dados[dados['cardio']==1].shape[0])\n",
        "print('sem chance de doença cardíaca:',dados[dados['cardio']==0].shape[0])"
      ],
      "execution_count": null,
      "outputs": [
        {
          "output_type": "stream",
          "text": [
            "chance de doença cardíaca: 5030\n",
            "sem chance de doença cardíaca: 4969\n"
          ],
          "name": "stdout"
        }
      ]
    },
    {
      "cell_type": "code",
      "metadata": {
        "id": "c4qufmqPeUCS",
        "colab_type": "code",
        "colab": {
          "base_uri": "https://localhost:8080/",
          "height": 281
        },
        "outputId": "110aa1c6-7bca-49b5-a1a4-a0652a36a438"
      },
      "source": [
        "#Verificando pacientes com ou sem doença cardiovascular\n",
        "plt.hist(dados['cardio'])\n",
        "plt.ylabel('Quantidade')\n",
        "plt.title('Pacientes - doença cardiovascular')\n",
        "plt.grid(True)\n",
        "plt.show()"
      ],
      "execution_count": null,
      "outputs": [
        {
          "output_type": "display_data",
          "data": {
            "image/png": "[encoded data removed]",
            "text/plain": [
              "<Figure size 432x288 with 1 Axes>"
            ]
          },
          "metadata": {
            "tags": [],
            "needs_background": "light"
          }
        }
      ]
    },
    {
      "cell_type": "markdown",
      "metadata": {
        "id": "SlaICH7ietvQ",
        "colab_type": "text"
      },
      "source": [
        "**ANÁLISE**: O histograma mostra que os dados referentes aos pacientes com ou sem doença cardiovascular estão bem distribuidos."
      ]
    },
    {
      "cell_type": "code",
      "metadata": {
        "id": "r69S46V0N7EK",
        "colab_type": "code",
        "colab": {
          "base_uri": "https://localhost:8080/",
          "height": 281
        },
        "outputId": "86018d0f-fddc-488e-a252-946895e824a5"
      },
      "source": [
        "#Verificando pacientes que são fumantes\n",
        "plt.hist(dados['smoke'])\n",
        "plt.ylabel('Quantidade')\n",
        "plt.title('Pacientes fumantes')\n",
        "plt.grid(True)\n",
        "plt.show()"
      ],
      "execution_count": null,
      "outputs": [
        {
          "output_type": "display_data",
          "data": {
            "image/png": "[encoded data removed]",
            "text/plain": [
              "<Figure size 432x288 with 1 Axes>"
            ]
          },
          "metadata": {
            "tags": [],
            "needs_background": "light"
          }
        }
      ]
    },
    {
      "cell_type": "code",
      "metadata": {
        "id": "0mMQH1kyZ3zN",
        "colab_type": "code",
        "colab": {
          "base_uri": "https://localhost:8080/",
          "height": 281
        },
        "outputId": "e86c7c79-c494-4013-927d-25ad77b30a0f"
      },
      "source": [
        "#Verificando pacientes que ingerem álcool\n",
        "plt.hist(dados['alco'])\n",
        "plt.ylabel('Quantidade')\n",
        "plt.title('Pacientes que ingerem álcool')\n",
        "plt.grid(True)\n",
        "plt.show()"
      ],
      "execution_count": null,
      "outputs": [
        {
          "output_type": "display_data",
          "data": {
            "image/png": "[encoded data removed]",
            "text/plain": [
              "<Figure size 432x288 with 1 Axes>"
            ]
          },
          "metadata": {
            "tags": [],
            "needs_background": "light"
          }
        }
      ]
    },
    {
      "cell_type": "code",
      "metadata": {
        "id": "2APf_TM7cpXz",
        "colab_type": "code",
        "colab": {
          "base_uri": "https://localhost:8080/",
          "height": 281
        },
        "outputId": "b29cc31b-e1c3-40b1-995b-dee3ba7aaffe"
      },
      "source": [
        "#Verificando pacientes que praticam atividade física\n",
        "plt.hist(dados['active'])\n",
        "plt.ylabel('Quantidade')\n",
        "plt.title('Pacientes que praticam ativ. física')\n",
        "plt.grid(True)\n",
        "plt.show()"
      ],
      "execution_count": null,
      "outputs": [
        {
          "output_type": "display_data",
          "data": {
            "image/png": "[encoded data removed]",
            "text/plain": [
              "<Figure size 432x288 with 1 Axes>"
            ]
          },
          "metadata": {
            "tags": [],
            "needs_background": "light"
          }
        }
      ]
    },
    {
      "cell_type": "markdown",
      "metadata": {
        "id": "xi8NA6VdhCKi",
        "colab_type": "text"
      },
      "source": [
        "**ANÁLISE**: Maior parte dos pacientes não são fumantes, não ingerem bebida alcoólica e praticam atividades físicas."
      ]
    },
    {
      "cell_type": "code",
      "metadata": {
        "id": "gUKFeSMna7aG",
        "colab_type": "code",
        "colab": {}
      },
      "source": [
        "#Criando dataframe apenas para pacientes com doenças cardiovasculares, representado pela sigla DC\n",
        "DC = dados[dados['cardio']==1].drop(columns=['cardio']).reset_index(drop=True)"
      ],
      "execution_count": null,
      "outputs": []
    },
    {
      "cell_type": "code",
      "metadata": {
        "id": "5-PhQhcScOUO",
        "colab_type": "code",
        "colab": {}
      },
      "source": [
        "#Criando dataframe apenas para pacientes sem doenças cardiovasculares, representado pela sigla NDC\n",
        "NDC = dados[dados['cardio']==0].drop(columns=['cardio']).reset_index(drop=True)"
      ],
      "execution_count": null,
      "outputs": []
    },
    {
      "cell_type": "code",
      "metadata": {
        "id": "33MTflRIcio7",
        "colab_type": "code",
        "colab": {
          "base_uri": "https://localhost:8080/",
          "height": 294
        },
        "outputId": "27d8a9d7-a610-4d4d-d795-d0823d4623cc"
      },
      "source": [
        "#Box plot comparando o peso para as duas classes\n",
        "plt.boxplot([DC.weight,NDC.weight],labels=['com chance','sem chance'])\n",
        "plt.xlabel('Classes')\n",
        "plt.ylabel('Peso')\n",
        "plt.title('Peso dos pacientes')\n",
        "plt.show()"
      ],
      "execution_count": null,
      "outputs": [
        {
          "output_type": "display_data",
          "data": {
            "image/png": "[encoded data removed]",
            "text/plain": [
              "<Figure size 432x288 with 1 Axes>"
            ]
          },
          "metadata": {
            "tags": [],
            "needs_background": "light"
          }
        }
      ]
    },
    {
      "cell_type": "markdown",
      "metadata": {
        "id": "US5R08bHhsTO",
        "colab_type": "text"
      },
      "source": [
        "**ANÁLISE**: A faixa de peso de pacientes com ou sem doença cardiovascular é bastante semelhante. Entretanto, existe uma quantidade um pouco maior de dados discrepantes para os pacientes com a doença."
      ]
    },
    {
      "cell_type": "code",
      "metadata": {
        "id": "DOJ4Bc8Vh84J",
        "colab_type": "code",
        "colab": {
          "base_uri": "https://localhost:8080/",
          "height": 225
        },
        "outputId": "394f334b-c33d-4e52-ba29-48076727aca8"
      },
      "source": [
        "#Estatística básica dos dados - calculo da média para pacientes sem doença cardiovascular\n",
        "NDC.mean()"
      ],
      "execution_count": null,
      "outputs": [
        {
          "output_type": "execute_result",
          "data": {
            "text/plain": [
              "age            18855.346951\n",
              "gender             1.344335\n",
              "height           164.376937\n",
              "weight            71.616865\n",
              "ap_hi            119.655866\n",
              "ap_lo             81.890722\n",
              "cholesterol        1.214128\n",
              "gluc               1.175287\n",
              "smoke              0.094184\n",
              "alco               0.055142\n",
              "active             0.813041\n",
              "dtype: float64"
            ]
          },
          "metadata": {
            "tags": []
          },
          "execution_count": 16
        }
      ]
    },
    {
      "cell_type": "code",
      "metadata": {
        "id": "rD63J_-PgQ-u",
        "colab_type": "code",
        "colab": {
          "base_uri": "https://localhost:8080/",
          "height": 225
        },
        "outputId": "89ba5da2-a10a-45c8-b006-ae9bd28cd3f2"
      },
      "source": [
        "#Estatística básica dos dados - calculo da média para pacientes com doença cardiovascular\n",
        "DC.mean()"
      ],
      "execution_count": null,
      "outputs": [
        {
          "output_type": "execute_result",
          "data": {
            "text/plain": [
              "age            20036.074553\n",
              "gender             1.346322\n",
              "height           164.240557\n",
              "weight            76.959225\n",
              "ap_hi            136.314115\n",
              "ap_lo            113.824254\n",
              "cholesterol        1.514115\n",
              "gluc               1.268588\n",
              "smoke              0.083897\n",
              "alco               0.052286\n",
              "active             0.781511\n",
              "dtype: float64"
            ]
          },
          "metadata": {
            "tags": []
          },
          "execution_count": 17
        }
      ]
    },
    {
      "cell_type": "code",
      "metadata": {
        "id": "pzPGrcTmiZx2",
        "colab_type": "code",
        "colab": {
          "base_uri": "https://localhost:8080/",
          "height": 208
        },
        "outputId": "d1e72495-ffe1-4028-fabd-bd6e0f0f0faf"
      },
      "source": [
        "#Calculando a correlação entre todos os atributos e o atributo de classe\n",
        "for col in dados.columns[1:]:\n",
        "    print(col,': ',round(dados.cardio.corr(dados[col]),2))"
      ],
      "execution_count": null,
      "outputs": [
        {
          "output_type": "stream",
          "text": [
            "gender :  0.0\n",
            "height :  -0.01\n",
            "weight :  0.18\n",
            "ap_hi :  0.07\n",
            "ap_lo :  0.08\n",
            "cholesterol :  0.22\n",
            "gluc :  0.08\n",
            "smoke :  -0.02\n",
            "alco :  -0.01\n",
            "active :  -0.04\n",
            "cardio :  1.0\n"
          ],
          "name": "stdout"
        }
      ]
    },
    {
      "cell_type": "code",
      "metadata": {
        "id": "0NyBf_JDp76S",
        "colab_type": "code",
        "colab": {
          "base_uri": "https://localhost:8080/",
          "height": 332
        },
        "outputId": "f964374f-a7c6-485d-ab5f-a7bd5ce12a6e"
      },
      "source": [
        "#Plotando coeficientes de correlação em um mapa de calor\n",
        "sns.heatmap(dados.corr(),vmin=-1, vmax=1, center=0,cmap=sns.diverging_palette(20, 220, n=200))"
      ],
      "execution_count": null,
      "outputs": [
        {
          "output_type": "execute_result",
          "data": {
            "text/plain": [
              "<matplotlib.axes._subplots.AxesSubplot at 0x7f74e2898b38>"
            ]
          },
          "metadata": {
            "tags": []
          },
          "execution_count": 19
        },
        {
          "output_type": "display_data",
          "data": {
            "image/png": "[encoded data removed]",
            "text/plain": [
              "<Figure size 432x288 with 2 Axes>"
            ]
          },
          "metadata": {
            "tags": [],
            "needs_background": "light"
          }
        }
      ]
    },
    {
      "cell_type": "markdown",
      "metadata": {
        "id": "Vwco5unlizCv",
        "colab_type": "text"
      },
      "source": [
        "**ANÁLISE**: Diante de todas as observações preliminares realizadas nesse dataset, pode concluir que os dados praticamente não apresentam uma correlação, tornando-se difícil predizer quais pacientes possuem ou não a doença. é possível notar isso através do mapa de calor acima."
      ]
    },
    {
      "cell_type": "markdown",
      "metadata": {
        "id": "yf-31fEfvWyW",
        "colab_type": "text"
      },
      "source": [
        "# 5. Realizando re-escala"
      ]
    },
    {
      "cell_type": "code",
      "metadata": {
        "id": "_p9ou6WduHph",
        "colab_type": "code",
        "colab": {}
      },
      "source": [
        "#Re-escala usando máximo e mínimo\n",
        "dados = (dados - dados.min())/(dados.max()-dados.min())"
      ],
      "execution_count": null,
      "outputs": []
    },
    {
      "cell_type": "code",
      "metadata": {
        "id": "yoSL0YamwstJ",
        "colab_type": "code",
        "colab": {
          "base_uri": "https://localhost:8080/",
          "height": 202
        },
        "outputId": "6fcf8745-e275-45f7-ab24-649881c9f080"
      },
      "source": [
        "dados.head()"
      ],
      "execution_count": null,
      "outputs": [
        {
          "output_type": "execute_result",
          "data": {
            "text/html": [
              "<div>\n",
              "<style scoped>\n",
              "    .dataframe tbody tr th:only-of-type {\n",
              "        vertical-align: middle;\n",
              "    }\n",
              "\n",
              "    .dataframe tbody tr th {\n",
              "        vertical-align: top;\n",
              "    }\n",
              "\n",
              "    .dataframe thead th {\n",
              "        text-align: right;\n",
              "    }\n",
              "</style>\n",
              "<table border=\"1\" class=\"dataframe\">\n",
              "  <thead>\n",
              "    <tr style=\"text-align: right;\">\n",
              "      <th></th>\n",
              "      <th>age</th>\n",
              "      <th>gender</th>\n",
              "      <th>height</th>\n",
              "      <th>weight</th>\n",
              "      <th>ap_hi</th>\n",
              "      <th>ap_lo</th>\n",
              "      <th>cholesterol</th>\n",
              "      <th>gluc</th>\n",
              "      <th>smoke</th>\n",
              "      <th>alco</th>\n",
              "      <th>active</th>\n",
              "      <th>cardio</th>\n",
              "    </tr>\n",
              "  </thead>\n",
              "  <tbody>\n",
              "    <tr>\n",
              "      <th>0</th>\n",
              "      <td>0.587477</td>\n",
              "      <td>1.0</td>\n",
              "      <td>0.544444</td>\n",
              "      <td>0.188235</td>\n",
              "      <td>0.018103</td>\n",
              "      <td>0.008</td>\n",
              "      <td>0.0</td>\n",
              "      <td>0.0</td>\n",
              "      <td>0.0</td>\n",
              "      <td>0.0</td>\n",
              "      <td>1.0</td>\n",
              "      <td>0.0</td>\n",
              "    </tr>\n",
              "    <tr>\n",
              "      <th>1</th>\n",
              "      <td>0.730926</td>\n",
              "      <td>0.0</td>\n",
              "      <td>0.477778</td>\n",
              "      <td>0.323529</td>\n",
              "      <td>0.020690</td>\n",
              "      <td>0.009</td>\n",
              "      <td>1.0</td>\n",
              "      <td>0.0</td>\n",
              "      <td>0.0</td>\n",
              "      <td>0.0</td>\n",
              "      <td>1.0</td>\n",
              "      <td>1.0</td>\n",
              "    </tr>\n",
              "    <tr>\n",
              "      <th>2</th>\n",
              "      <td>0.623749</td>\n",
              "      <td>0.0</td>\n",
              "      <td>0.527778</td>\n",
              "      <td>0.200000</td>\n",
              "      <td>0.019828</td>\n",
              "      <td>0.007</td>\n",
              "      <td>1.0</td>\n",
              "      <td>0.0</td>\n",
              "      <td>0.0</td>\n",
              "      <td>0.0</td>\n",
              "      <td>0.0</td>\n",
              "      <td>1.0</td>\n",
              "    </tr>\n",
              "    <tr>\n",
              "      <th>3</th>\n",
              "      <td>0.527283</td>\n",
              "      <td>1.0</td>\n",
              "      <td>0.550000</td>\n",
              "      <td>0.305882</td>\n",
              "      <td>0.021552</td>\n",
              "      <td>0.010</td>\n",
              "      <td>0.0</td>\n",
              "      <td>0.0</td>\n",
              "      <td>0.0</td>\n",
              "      <td>0.0</td>\n",
              "      <td>1.0</td>\n",
              "      <td>1.0</td>\n",
              "    </tr>\n",
              "    <tr>\n",
              "      <th>4</th>\n",
              "      <td>0.515635</td>\n",
              "      <td>0.0</td>\n",
              "      <td>0.477778</td>\n",
              "      <td>0.152941</td>\n",
              "      <td>0.017241</td>\n",
              "      <td>0.006</td>\n",
              "      <td>0.0</td>\n",
              "      <td>0.0</td>\n",
              "      <td>0.0</td>\n",
              "      <td>0.0</td>\n",
              "      <td>0.0</td>\n",
              "      <td>0.0</td>\n",
              "    </tr>\n",
              "  </tbody>\n",
              "</table>\n",
              "</div>"
            ],
            "text/plain": [
              "        age  gender    height    weight  ...  smoke  alco  active  cardio\n",
              "0  0.587477     1.0  0.544444  0.188235  ...    0.0   0.0     1.0     0.0\n",
              "1  0.730926     0.0  0.477778  0.323529  ...    0.0   0.0     1.0     1.0\n",
              "2  0.623749     0.0  0.527778  0.200000  ...    0.0   0.0     0.0     1.0\n",
              "3  0.527283     1.0  0.550000  0.305882  ...    0.0   0.0     1.0     1.0\n",
              "4  0.515635     0.0  0.477778  0.152941  ...    0.0   0.0     0.0     0.0\n",
              "\n",
              "[5 rows x 12 columns]"
            ]
          },
          "metadata": {
            "tags": []
          },
          "execution_count": 21
        }
      ]
    },
    {
      "cell_type": "markdown",
      "metadata": {
        "id": "Sf8oGbvAw6au",
        "colab_type": "text"
      },
      "source": [
        "# 6. Organizando dados para modelagem"
      ]
    },
    {
      "cell_type": "code",
      "metadata": {
        "id": "kjD1PwwRwnzU",
        "colab_type": "code",
        "colab": {
          "base_uri": "https://localhost:8080/",
          "height": 202
        },
        "outputId": "9c6e2533-5cf0-4186-c3ca-ee0f9e91ca69"
      },
      "source": [
        "#Dividindo dados em atributos descritores e atributo de classe\n",
        "X = dados.iloc[:,:11]\n",
        "X.head()"
      ],
      "execution_count": null,
      "outputs": [
        {
          "output_type": "execute_result",
          "data": {
            "text/html": [
              "<div>\n",
              "<style scoped>\n",
              "    .dataframe tbody tr th:only-of-type {\n",
              "        vertical-align: middle;\n",
              "    }\n",
              "\n",
              "    .dataframe tbody tr th {\n",
              "        vertical-align: top;\n",
              "    }\n",
              "\n",
              "    .dataframe thead th {\n",
              "        text-align: right;\n",
              "    }\n",
              "</style>\n",
              "<table border=\"1\" class=\"dataframe\">\n",
              "  <thead>\n",
              "    <tr style=\"text-align: right;\">\n",
              "      <th></th>\n",
              "      <th>age</th>\n",
              "      <th>gender</th>\n",
              "      <th>height</th>\n",
              "      <th>weight</th>\n",
              "      <th>ap_hi</th>\n",
              "      <th>ap_lo</th>\n",
              "      <th>cholesterol</th>\n",
              "      <th>gluc</th>\n",
              "      <th>smoke</th>\n",
              "      <th>alco</th>\n",
              "      <th>active</th>\n",
              "    </tr>\n",
              "  </thead>\n",
              "  <tbody>\n",
              "    <tr>\n",
              "      <th>0</th>\n",
              "      <td>0.587477</td>\n",
              "      <td>1.0</td>\n",
              "      <td>0.544444</td>\n",
              "      <td>0.188235</td>\n",
              "      <td>0.018103</td>\n",
              "      <td>0.008</td>\n",
              "      <td>0.0</td>\n",
              "      <td>0.0</td>\n",
              "      <td>0.0</td>\n",
              "      <td>0.0</td>\n",
              "      <td>1.0</td>\n",
              "    </tr>\n",
              "    <tr>\n",
              "      <th>1</th>\n",
              "      <td>0.730926</td>\n",
              "      <td>0.0</td>\n",
              "      <td>0.477778</td>\n",
              "      <td>0.323529</td>\n",
              "      <td>0.020690</td>\n",
              "      <td>0.009</td>\n",
              "      <td>1.0</td>\n",
              "      <td>0.0</td>\n",
              "      <td>0.0</td>\n",
              "      <td>0.0</td>\n",
              "      <td>1.0</td>\n",
              "    </tr>\n",
              "    <tr>\n",
              "      <th>2</th>\n",
              "      <td>0.623749</td>\n",
              "      <td>0.0</td>\n",
              "      <td>0.527778</td>\n",
              "      <td>0.200000</td>\n",
              "      <td>0.019828</td>\n",
              "      <td>0.007</td>\n",
              "      <td>1.0</td>\n",
              "      <td>0.0</td>\n",
              "      <td>0.0</td>\n",
              "      <td>0.0</td>\n",
              "      <td>0.0</td>\n",
              "    </tr>\n",
              "    <tr>\n",
              "      <th>3</th>\n",
              "      <td>0.527283</td>\n",
              "      <td>1.0</td>\n",
              "      <td>0.550000</td>\n",
              "      <td>0.305882</td>\n",
              "      <td>0.021552</td>\n",
              "      <td>0.010</td>\n",
              "      <td>0.0</td>\n",
              "      <td>0.0</td>\n",
              "      <td>0.0</td>\n",
              "      <td>0.0</td>\n",
              "      <td>1.0</td>\n",
              "    </tr>\n",
              "    <tr>\n",
              "      <th>4</th>\n",
              "      <td>0.515635</td>\n",
              "      <td>0.0</td>\n",
              "      <td>0.477778</td>\n",
              "      <td>0.152941</td>\n",
              "      <td>0.017241</td>\n",
              "      <td>0.006</td>\n",
              "      <td>0.0</td>\n",
              "      <td>0.0</td>\n",
              "      <td>0.0</td>\n",
              "      <td>0.0</td>\n",
              "      <td>0.0</td>\n",
              "    </tr>\n",
              "  </tbody>\n",
              "</table>\n",
              "</div>"
            ],
            "text/plain": [
              "        age  gender    height    weight  ...  gluc  smoke  alco  active\n",
              "0  0.587477     1.0  0.544444  0.188235  ...   0.0    0.0   0.0     1.0\n",
              "1  0.730926     0.0  0.477778  0.323529  ...   0.0    0.0   0.0     1.0\n",
              "2  0.623749     0.0  0.527778  0.200000  ...   0.0    0.0   0.0     0.0\n",
              "3  0.527283     1.0  0.550000  0.305882  ...   0.0    0.0   0.0     1.0\n",
              "4  0.515635     0.0  0.477778  0.152941  ...   0.0    0.0   0.0     0.0\n",
              "\n",
              "[5 rows x 11 columns]"
            ]
          },
          "metadata": {
            "tags": []
          },
          "execution_count": 22
        }
      ]
    },
    {
      "cell_type": "code",
      "metadata": {
        "id": "PAfGHTiF0Y66",
        "colab_type": "code",
        "colab": {
          "base_uri": "https://localhost:8080/",
          "height": 121
        },
        "outputId": "2aa4fb1e-54ae-402c-8c86-bec87d7fa7cb"
      },
      "source": [
        "\n",
        "y = dados.cardio\n",
        "y.head()"
      ],
      "execution_count": null,
      "outputs": [
        {
          "output_type": "execute_result",
          "data": {
            "text/plain": [
              "0    0.0\n",
              "1    1.0\n",
              "2    1.0\n",
              "3    1.0\n",
              "4    0.0\n",
              "Name: cardio, dtype: float64"
            ]
          },
          "metadata": {
            "tags": []
          },
          "execution_count": 23
        }
      ]
    },
    {
      "cell_type": "code",
      "metadata": {
        "id": "Hqm1YvaZ0rb6",
        "colab_type": "code",
        "colab": {}
      },
      "source": [
        "#Definindo 20% dos dados para teste e 80% para treino.\n",
        "X_train, X_test, y_train, y_test = train_test_split(X,y, test_size=0.2)"
      ],
      "execution_count": null,
      "outputs": []
    },
    {
      "cell_type": "code",
      "metadata": {
        "id": "UVDC8a-E2JOK",
        "colab_type": "code",
        "colab": {
          "base_uri": "https://localhost:8080/",
          "height": 202
        },
        "outputId": "f14fe92c-31c1-4c64-fe6e-d61f54e2c291"
      },
      "source": [
        "#Executando x_train\n",
        "X_train.head()"
      ],
      "execution_count": null,
      "outputs": [
        {
          "output_type": "execute_result",
          "data": {
            "text/html": [
              "<div>\n",
              "<style scoped>\n",
              "    .dataframe tbody tr th:only-of-type {\n",
              "        vertical-align: middle;\n",
              "    }\n",
              "\n",
              "    .dataframe tbody tr th {\n",
              "        vertical-align: top;\n",
              "    }\n",
              "\n",
              "    .dataframe thead th {\n",
              "        text-align: right;\n",
              "    }\n",
              "</style>\n",
              "<table border=\"1\" class=\"dataframe\">\n",
              "  <thead>\n",
              "    <tr style=\"text-align: right;\">\n",
              "      <th></th>\n",
              "      <th>age</th>\n",
              "      <th>gender</th>\n",
              "      <th>height</th>\n",
              "      <th>weight</th>\n",
              "      <th>ap_hi</th>\n",
              "      <th>ap_lo</th>\n",
              "      <th>cholesterol</th>\n",
              "      <th>gluc</th>\n",
              "      <th>smoke</th>\n",
              "      <th>alco</th>\n",
              "      <th>active</th>\n",
              "    </tr>\n",
              "  </thead>\n",
              "  <tbody>\n",
              "    <tr>\n",
              "      <th>2439</th>\n",
              "      <td>0.690275</td>\n",
              "      <td>0.0</td>\n",
              "      <td>0.511111</td>\n",
              "      <td>0.117647</td>\n",
              "      <td>0.019828</td>\n",
              "      <td>0.009</td>\n",
              "      <td>1.0</td>\n",
              "      <td>0.0</td>\n",
              "      <td>0.0</td>\n",
              "      <td>0.0</td>\n",
              "      <td>1.0</td>\n",
              "    </tr>\n",
              "    <tr>\n",
              "      <th>2342</th>\n",
              "      <td>0.855691</td>\n",
              "      <td>0.0</td>\n",
              "      <td>0.472222</td>\n",
              "      <td>0.211765</td>\n",
              "      <td>0.022414</td>\n",
              "      <td>0.009</td>\n",
              "      <td>0.5</td>\n",
              "      <td>0.0</td>\n",
              "      <td>0.0</td>\n",
              "      <td>0.0</td>\n",
              "      <td>1.0</td>\n",
              "    </tr>\n",
              "    <tr>\n",
              "      <th>8301</th>\n",
              "      <td>0.350453</td>\n",
              "      <td>0.0</td>\n",
              "      <td>0.527778</td>\n",
              "      <td>0.235294</td>\n",
              "      <td>0.018103</td>\n",
              "      <td>0.007</td>\n",
              "      <td>0.0</td>\n",
              "      <td>0.0</td>\n",
              "      <td>0.0</td>\n",
              "      <td>0.0</td>\n",
              "      <td>1.0</td>\n",
              "    </tr>\n",
              "    <tr>\n",
              "      <th>1816</th>\n",
              "      <td>0.528299</td>\n",
              "      <td>1.0</td>\n",
              "      <td>0.483333</td>\n",
              "      <td>0.129412</td>\n",
              "      <td>0.021552</td>\n",
              "      <td>0.010</td>\n",
              "      <td>0.0</td>\n",
              "      <td>0.0</td>\n",
              "      <td>1.0</td>\n",
              "      <td>0.0</td>\n",
              "      <td>1.0</td>\n",
              "    </tr>\n",
              "    <tr>\n",
              "      <th>4898</th>\n",
              "      <td>0.979987</td>\n",
              "      <td>1.0</td>\n",
              "      <td>0.555556</td>\n",
              "      <td>0.352941</td>\n",
              "      <td>0.020690</td>\n",
              "      <td>0.009</td>\n",
              "      <td>0.0</td>\n",
              "      <td>0.0</td>\n",
              "      <td>0.0</td>\n",
              "      <td>0.0</td>\n",
              "      <td>1.0</td>\n",
              "    </tr>\n",
              "  </tbody>\n",
              "</table>\n",
              "</div>"
            ],
            "text/plain": [
              "           age  gender    height    weight  ...  gluc  smoke  alco  active\n",
              "2439  0.690275     0.0  0.511111  0.117647  ...   0.0    0.0   0.0     1.0\n",
              "2342  0.855691     0.0  0.472222  0.211765  ...   0.0    0.0   0.0     1.0\n",
              "8301  0.350453     0.0  0.527778  0.235294  ...   0.0    0.0   0.0     1.0\n",
              "1816  0.528299     1.0  0.483333  0.129412  ...   0.0    1.0   0.0     1.0\n",
              "4898  0.979987     1.0  0.555556  0.352941  ...   0.0    0.0   0.0     1.0\n",
              "\n",
              "[5 rows x 11 columns]"
            ]
          },
          "metadata": {
            "tags": []
          },
          "execution_count": 26
        }
      ]
    },
    {
      "cell_type": "code",
      "metadata": {
        "id": "SH1Uk8WC2Zsu",
        "colab_type": "code",
        "colab": {
          "base_uri": "https://localhost:8080/",
          "height": 121
        },
        "outputId": "0ef36b65-678f-4882-d8d0-26267f1c55b5"
      },
      "source": [
        "#Executando y_train\n",
        "y_train.head()"
      ],
      "execution_count": null,
      "outputs": [
        {
          "output_type": "execute_result",
          "data": {
            "text/plain": [
              "2439    1.0\n",
              "2342    1.0\n",
              "8301    0.0\n",
              "1816    1.0\n",
              "4898    1.0\n",
              "Name: cardio, dtype: float64"
            ]
          },
          "metadata": {
            "tags": []
          },
          "execution_count": 27
        }
      ]
    },
    {
      "cell_type": "markdown",
      "metadata": {
        "id": "JcWv9aK-vbKI",
        "colab_type": "text"
      },
      "source": [
        "# 7. Otimização de Parâmetros\n",
        "\n",
        "Utilizando a otimização de parâmetros, a modelagem escolhida será com Grid Search, pois demonstra resultados mais precisos. "
      ]
    },
    {
      "cell_type": "markdown",
      "metadata": {
        "id": "8cbSuGoG5Uov",
        "colab_type": "text"
      },
      "source": [
        "#Modelagem com Grid Search\n",
        "\n",
        "\n"
      ]
    },
    {
      "cell_type": "code",
      "metadata": {
        "id": "dPR9_z-AtIgv",
        "colab_type": "code",
        "colab": {}
      },
      "source": [
        "#Definindo parâmetros \n",
        "param_grid = [\n",
        "              {\n",
        "                  'hidden_layer_sizes': [(10),(50),(50,10)],\n",
        "                  'activation': ['identity', 'logistic', 'tanh', 'relu'],\n",
        "                  'solver': ['lbfgs', 'sgd', 'adam'],\n",
        "                  'max_iter': [2000]\n",
        "              }\n",
        "              \n",
        "]"
      ],
      "execution_count": null,
      "outputs": []
    },
    {
      "cell_type": "code",
      "metadata": {
        "id": "OKvX8sbcyMoX",
        "colab_type": "code",
        "colab": {}
      },
      "source": [
        "#Definindo classificador\n",
        "classificador = GridSearchCV(MLPClassifier(),param_grid,cv=5,scoring='accuracy')"
      ],
      "execution_count": null,
      "outputs": []
    },
    {
      "cell_type": "code",
      "metadata": {
        "id": "O4S8oU0J00j5",
        "colab_type": "code",
        "colab": {
          "base_uri": "https://localhost:8080/",
          "height": 1000
        },
        "outputId": "49b1af8e-79ab-43fc-aa23-6e7b8f9397b1"
      },
      "source": [
        "#Treinando modelo\n",
        "classificador.fit(X,y)"
      ],
      "execution_count": null,
      "outputs": [
        {
          "output_type": "stream",
          "text": [
            "/usr/local/lib/python3.6/dist-packages/sklearn/neural_network/_multilayer_perceptron.py:470: ConvergenceWarning: lbfgs failed to converge (status=2):\n",
            "ABNORMAL_TERMINATION_IN_LNSRCH.\n",
            "\n",
            "Increase the number of iterations (max_iter) or scale the data as shown in:\n",
            "    https://scikit-learn.org/stable/modules/preprocessing.html\n",
            "  self.n_iter_ = _check_optimize_result(\"lbfgs\", opt_res, self.max_iter)\n",
            "/usr/local/lib/python3.6/dist-packages/sklearn/neural_network/_multilayer_perceptron.py:470: ConvergenceWarning: lbfgs failed to converge (status=1):\n",
            "STOP: TOTAL NO. of ITERATIONS REACHED LIMIT.\n",
            "\n",
            "Increase the number of iterations (max_iter) or scale the data as shown in:\n",
            "    https://scikit-learn.org/stable/modules/preprocessing.html\n",
            "  self.n_iter_ = _check_optimize_result(\"lbfgs\", opt_res, self.max_iter)\n",
            "/usr/local/lib/python3.6/dist-packages/sklearn/neural_network/_multilayer_perceptron.py:470: ConvergenceWarning: lbfgs failed to converge (status=1):\n",
            "STOP: TOTAL NO. of ITERATIONS REACHED LIMIT.\n",
            "\n",
            "Increase the number of iterations (max_iter) or scale the data as shown in:\n",
            "    https://scikit-learn.org/stable/modules/preprocessing.html\n",
            "  self.n_iter_ = _check_optimize_result(\"lbfgs\", opt_res, self.max_iter)\n",
            "/usr/local/lib/python3.6/dist-packages/sklearn/neural_network/_multilayer_perceptron.py:470: ConvergenceWarning: lbfgs failed to converge (status=1):\n",
            "STOP: TOTAL NO. of ITERATIONS REACHED LIMIT.\n",
            "\n",
            "Increase the number of iterations (max_iter) or scale the data as shown in:\n",
            "    https://scikit-learn.org/stable/modules/preprocessing.html\n",
            "  self.n_iter_ = _check_optimize_result(\"lbfgs\", opt_res, self.max_iter)\n",
            "/usr/local/lib/python3.6/dist-packages/sklearn/neural_network/_multilayer_perceptron.py:470: ConvergenceWarning: lbfgs failed to converge (status=1):\n",
            "STOP: TOTAL NO. of ITERATIONS REACHED LIMIT.\n",
            "\n",
            "Increase the number of iterations (max_iter) or scale the data as shown in:\n",
            "    https://scikit-learn.org/stable/modules/preprocessing.html\n",
            "  self.n_iter_ = _check_optimize_result(\"lbfgs\", opt_res, self.max_iter)\n",
            "/usr/local/lib/python3.6/dist-packages/sklearn/neural_network/_multilayer_perceptron.py:470: ConvergenceWarning: lbfgs failed to converge (status=1):\n",
            "STOP: TOTAL NO. of ITERATIONS REACHED LIMIT.\n",
            "\n",
            "Increase the number of iterations (max_iter) or scale the data as shown in:\n",
            "    https://scikit-learn.org/stable/modules/preprocessing.html\n",
            "  self.n_iter_ = _check_optimize_result(\"lbfgs\", opt_res, self.max_iter)\n",
            "/usr/local/lib/python3.6/dist-packages/sklearn/neural_network/_multilayer_perceptron.py:470: ConvergenceWarning: lbfgs failed to converge (status=1):\n",
            "STOP: TOTAL NO. of ITERATIONS REACHED LIMIT.\n",
            "\n",
            "Increase the number of iterations (max_iter) or scale the data as shown in:\n",
            "    https://scikit-learn.org/stable/modules/preprocessing.html\n",
            "  self.n_iter_ = _check_optimize_result(\"lbfgs\", opt_res, self.max_iter)\n",
            "/usr/local/lib/python3.6/dist-packages/sklearn/neural_network/_multilayer_perceptron.py:470: ConvergenceWarning: lbfgs failed to converge (status=1):\n",
            "STOP: TOTAL NO. of ITERATIONS REACHED LIMIT.\n",
            "\n",
            "Increase the number of iterations (max_iter) or scale the data as shown in:\n",
            "    https://scikit-learn.org/stable/modules/preprocessing.html\n",
            "  self.n_iter_ = _check_optimize_result(\"lbfgs\", opt_res, self.max_iter)\n",
            "/usr/local/lib/python3.6/dist-packages/sklearn/neural_network/_multilayer_perceptron.py:470: ConvergenceWarning: lbfgs failed to converge (status=1):\n",
            "STOP: TOTAL NO. of ITERATIONS REACHED LIMIT.\n",
            "\n",
            "Increase the number of iterations (max_iter) or scale the data as shown in:\n",
            "    https://scikit-learn.org/stable/modules/preprocessing.html\n",
            "  self.n_iter_ = _check_optimize_result(\"lbfgs\", opt_res, self.max_iter)\n",
            "/usr/local/lib/python3.6/dist-packages/sklearn/neural_network/_multilayer_perceptron.py:470: ConvergenceWarning: lbfgs failed to converge (status=1):\n",
            "STOP: TOTAL NO. of ITERATIONS REACHED LIMIT.\n",
            "\n",
            "Increase the number of iterations (max_iter) or scale the data as shown in:\n",
            "    https://scikit-learn.org/stable/modules/preprocessing.html\n",
            "  self.n_iter_ = _check_optimize_result(\"lbfgs\", opt_res, self.max_iter)\n",
            "/usr/local/lib/python3.6/dist-packages/sklearn/neural_network/_multilayer_perceptron.py:470: ConvergenceWarning: lbfgs failed to converge (status=1):\n",
            "STOP: TOTAL NO. of ITERATIONS REACHED LIMIT.\n",
            "\n",
            "Increase the number of iterations (max_iter) or scale the data as shown in:\n",
            "    https://scikit-learn.org/stable/modules/preprocessing.html\n",
            "  self.n_iter_ = _check_optimize_result(\"lbfgs\", opt_res, self.max_iter)\n",
            "/usr/local/lib/python3.6/dist-packages/sklearn/neural_network/_multilayer_perceptron.py:470: ConvergenceWarning: lbfgs failed to converge (status=1):\n",
            "STOP: TOTAL NO. of ITERATIONS REACHED LIMIT.\n",
            "\n",
            "Increase the number of iterations (max_iter) or scale the data as shown in:\n",
            "    https://scikit-learn.org/stable/modules/preprocessing.html\n",
            "  self.n_iter_ = _check_optimize_result(\"lbfgs\", opt_res, self.max_iter)\n",
            "/usr/local/lib/python3.6/dist-packages/sklearn/neural_network/_multilayer_perceptron.py:470: ConvergenceWarning: lbfgs failed to converge (status=1):\n",
            "STOP: TOTAL NO. of ITERATIONS REACHED LIMIT.\n",
            "\n",
            "Increase the number of iterations (max_iter) or scale the data as shown in:\n",
            "    https://scikit-learn.org/stable/modules/preprocessing.html\n",
            "  self.n_iter_ = _check_optimize_result(\"lbfgs\", opt_res, self.max_iter)\n",
            "/usr/local/lib/python3.6/dist-packages/sklearn/neural_network/_multilayer_perceptron.py:470: ConvergenceWarning: lbfgs failed to converge (status=1):\n",
            "STOP: TOTAL NO. of ITERATIONS REACHED LIMIT.\n",
            "\n",
            "Increase the number of iterations (max_iter) or scale the data as shown in:\n",
            "    https://scikit-learn.org/stable/modules/preprocessing.html\n",
            "  self.n_iter_ = _check_optimize_result(\"lbfgs\", opt_res, self.max_iter)\n",
            "/usr/local/lib/python3.6/dist-packages/sklearn/neural_network/_multilayer_perceptron.py:470: ConvergenceWarning: lbfgs failed to converge (status=1):\n",
            "STOP: TOTAL NO. of ITERATIONS REACHED LIMIT.\n",
            "\n",
            "Increase the number of iterations (max_iter) or scale the data as shown in:\n",
            "    https://scikit-learn.org/stable/modules/preprocessing.html\n",
            "  self.n_iter_ = _check_optimize_result(\"lbfgs\", opt_res, self.max_iter)\n",
            "/usr/local/lib/python3.6/dist-packages/sklearn/neural_network/_multilayer_perceptron.py:470: ConvergenceWarning: lbfgs failed to converge (status=1):\n",
            "STOP: TOTAL NO. of ITERATIONS REACHED LIMIT.\n",
            "\n",
            "Increase the number of iterations (max_iter) or scale the data as shown in:\n",
            "    https://scikit-learn.org/stable/modules/preprocessing.html\n",
            "  self.n_iter_ = _check_optimize_result(\"lbfgs\", opt_res, self.max_iter)\n",
            "/usr/local/lib/python3.6/dist-packages/sklearn/neural_network/_multilayer_perceptron.py:470: ConvergenceWarning: lbfgs failed to converge (status=1):\n",
            "STOP: TOTAL NO. of ITERATIONS REACHED LIMIT.\n",
            "\n",
            "Increase the number of iterations (max_iter) or scale the data as shown in:\n",
            "    https://scikit-learn.org/stable/modules/preprocessing.html\n",
            "  self.n_iter_ = _check_optimize_result(\"lbfgs\", opt_res, self.max_iter)\n",
            "/usr/local/lib/python3.6/dist-packages/sklearn/neural_network/_multilayer_perceptron.py:470: ConvergenceWarning: lbfgs failed to converge (status=1):\n",
            "STOP: TOTAL NO. of ITERATIONS REACHED LIMIT.\n",
            "\n",
            "Increase the number of iterations (max_iter) or scale the data as shown in:\n",
            "    https://scikit-learn.org/stable/modules/preprocessing.html\n",
            "  self.n_iter_ = _check_optimize_result(\"lbfgs\", opt_res, self.max_iter)\n",
            "/usr/local/lib/python3.6/dist-packages/sklearn/neural_network/_multilayer_perceptron.py:470: ConvergenceWarning: lbfgs failed to converge (status=1):\n",
            "STOP: TOTAL NO. of ITERATIONS REACHED LIMIT.\n",
            "\n",
            "Increase the number of iterations (max_iter) or scale the data as shown in:\n",
            "    https://scikit-learn.org/stable/modules/preprocessing.html\n",
            "  self.n_iter_ = _check_optimize_result(\"lbfgs\", opt_res, self.max_iter)\n",
            "/usr/local/lib/python3.6/dist-packages/sklearn/neural_network/_multilayer_perceptron.py:470: ConvergenceWarning: lbfgs failed to converge (status=1):\n",
            "STOP: TOTAL NO. of ITERATIONS REACHED LIMIT.\n",
            "\n",
            "Increase the number of iterations (max_iter) or scale the data as shown in:\n",
            "    https://scikit-learn.org/stable/modules/preprocessing.html\n",
            "  self.n_iter_ = _check_optimize_result(\"lbfgs\", opt_res, self.max_iter)\n",
            "/usr/local/lib/python3.6/dist-packages/sklearn/neural_network/_multilayer_perceptron.py:470: ConvergenceWarning: lbfgs failed to converge (status=1):\n",
            "STOP: TOTAL NO. of ITERATIONS REACHED LIMIT.\n",
            "\n",
            "Increase the number of iterations (max_iter) or scale the data as shown in:\n",
            "    https://scikit-learn.org/stable/modules/preprocessing.html\n",
            "  self.n_iter_ = _check_optimize_result(\"lbfgs\", opt_res, self.max_iter)\n",
            "/usr/local/lib/python3.6/dist-packages/sklearn/neural_network/_multilayer_perceptron.py:470: ConvergenceWarning: lbfgs failed to converge (status=2):\n",
            "ABNORMAL_TERMINATION_IN_LNSRCH.\n",
            "\n",
            "Increase the number of iterations (max_iter) or scale the data as shown in:\n",
            "    https://scikit-learn.org/stable/modules/preprocessing.html\n",
            "  self.n_iter_ = _check_optimize_result(\"lbfgs\", opt_res, self.max_iter)\n",
            "/usr/local/lib/python3.6/dist-packages/sklearn/neural_network/_multilayer_perceptron.py:470: ConvergenceWarning: lbfgs failed to converge (status=2):\n",
            "ABNORMAL_TERMINATION_IN_LNSRCH.\n",
            "\n",
            "Increase the number of iterations (max_iter) or scale the data as shown in:\n",
            "    https://scikit-learn.org/stable/modules/preprocessing.html\n",
            "  self.n_iter_ = _check_optimize_result(\"lbfgs\", opt_res, self.max_iter)\n",
            "/usr/local/lib/python3.6/dist-packages/sklearn/neural_network/_multilayer_perceptron.py:470: ConvergenceWarning: lbfgs failed to converge (status=1):\n",
            "STOP: TOTAL NO. of ITERATIONS REACHED LIMIT.\n",
            "\n",
            "Increase the number of iterations (max_iter) or scale the data as shown in:\n",
            "    https://scikit-learn.org/stable/modules/preprocessing.html\n",
            "  self.n_iter_ = _check_optimize_result(\"lbfgs\", opt_res, self.max_iter)\n",
            "/usr/local/lib/python3.6/dist-packages/sklearn/neural_network/_multilayer_perceptron.py:470: ConvergenceWarning: lbfgs failed to converge (status=1):\n",
            "STOP: TOTAL NO. of ITERATIONS REACHED LIMIT.\n",
            "\n",
            "Increase the number of iterations (max_iter) or scale the data as shown in:\n",
            "    https://scikit-learn.org/stable/modules/preprocessing.html\n",
            "  self.n_iter_ = _check_optimize_result(\"lbfgs\", opt_res, self.max_iter)\n",
            "/usr/local/lib/python3.6/dist-packages/sklearn/neural_network/_multilayer_perceptron.py:470: ConvergenceWarning: lbfgs failed to converge (status=1):\n",
            "STOP: TOTAL NO. of ITERATIONS REACHED LIMIT.\n",
            "\n",
            "Increase the number of iterations (max_iter) or scale the data as shown in:\n",
            "    https://scikit-learn.org/stable/modules/preprocessing.html\n",
            "  self.n_iter_ = _check_optimize_result(\"lbfgs\", opt_res, self.max_iter)\n",
            "/usr/local/lib/python3.6/dist-packages/sklearn/neural_network/_multilayer_perceptron.py:470: ConvergenceWarning: lbfgs failed to converge (status=1):\n",
            "STOP: TOTAL NO. of ITERATIONS REACHED LIMIT.\n",
            "\n",
            "Increase the number of iterations (max_iter) or scale the data as shown in:\n",
            "    https://scikit-learn.org/stable/modules/preprocessing.html\n",
            "  self.n_iter_ = _check_optimize_result(\"lbfgs\", opt_res, self.max_iter)\n",
            "/usr/local/lib/python3.6/dist-packages/sklearn/neural_network/_multilayer_perceptron.py:470: ConvergenceWarning: lbfgs failed to converge (status=1):\n",
            "STOP: TOTAL NO. of ITERATIONS REACHED LIMIT.\n",
            "\n",
            "Increase the number of iterations (max_iter) or scale the data as shown in:\n",
            "    https://scikit-learn.org/stable/modules/preprocessing.html\n",
            "  self.n_iter_ = _check_optimize_result(\"lbfgs\", opt_res, self.max_iter)\n",
            "/usr/local/lib/python3.6/dist-packages/sklearn/neural_network/_multilayer_perceptron.py:470: ConvergenceWarning: lbfgs failed to converge (status=1):\n",
            "STOP: TOTAL NO. of ITERATIONS REACHED LIMIT.\n",
            "\n",
            "Increase the number of iterations (max_iter) or scale the data as shown in:\n",
            "    https://scikit-learn.org/stable/modules/preprocessing.html\n",
            "  self.n_iter_ = _check_optimize_result(\"lbfgs\", opt_res, self.max_iter)\n",
            "/usr/local/lib/python3.6/dist-packages/sklearn/neural_network/_multilayer_perceptron.py:470: ConvergenceWarning: lbfgs failed to converge (status=2):\n",
            "ABNORMAL_TERMINATION_IN_LNSRCH.\n",
            "\n",
            "Increase the number of iterations (max_iter) or scale the data as shown in:\n",
            "    https://scikit-learn.org/stable/modules/preprocessing.html\n",
            "  self.n_iter_ = _check_optimize_result(\"lbfgs\", opt_res, self.max_iter)\n",
            "/usr/local/lib/python3.6/dist-packages/sklearn/neural_network/_multilayer_perceptron.py:470: ConvergenceWarning: lbfgs failed to converge (status=1):\n",
            "STOP: TOTAL NO. of ITERATIONS REACHED LIMIT.\n",
            "\n",
            "Increase the number of iterations (max_iter) or scale the data as shown in:\n",
            "    https://scikit-learn.org/stable/modules/preprocessing.html\n",
            "  self.n_iter_ = _check_optimize_result(\"lbfgs\", opt_res, self.max_iter)\n",
            "/usr/local/lib/python3.6/dist-packages/sklearn/neural_network/_multilayer_perceptron.py:470: ConvergenceWarning: lbfgs failed to converge (status=1):\n",
            "STOP: TOTAL NO. of ITERATIONS REACHED LIMIT.\n",
            "\n",
            "Increase the number of iterations (max_iter) or scale the data as shown in:\n",
            "    https://scikit-learn.org/stable/modules/preprocessing.html\n",
            "  self.n_iter_ = _check_optimize_result(\"lbfgs\", opt_res, self.max_iter)\n",
            "/usr/local/lib/python3.6/dist-packages/sklearn/neural_network/_multilayer_perceptron.py:470: ConvergenceWarning: lbfgs failed to converge (status=2):\n",
            "ABNORMAL_TERMINATION_IN_LNSRCH.\n",
            "\n",
            "Increase the number of iterations (max_iter) or scale the data as shown in:\n",
            "    https://scikit-learn.org/stable/modules/preprocessing.html\n",
            "  self.n_iter_ = _check_optimize_result(\"lbfgs\", opt_res, self.max_iter)\n",
            "/usr/local/lib/python3.6/dist-packages/sklearn/neural_network/_multilayer_perceptron.py:470: ConvergenceWarning: lbfgs failed to converge (status=1):\n",
            "STOP: TOTAL NO. of ITERATIONS REACHED LIMIT.\n",
            "\n",
            "Increase the number of iterations (max_iter) or scale the data as shown in:\n",
            "    https://scikit-learn.org/stable/modules/preprocessing.html\n",
            "  self.n_iter_ = _check_optimize_result(\"lbfgs\", opt_res, self.max_iter)\n",
            "/usr/local/lib/python3.6/dist-packages/sklearn/neural_network/_multilayer_perceptron.py:470: ConvergenceWarning: lbfgs failed to converge (status=1):\n",
            "STOP: TOTAL NO. of ITERATIONS REACHED LIMIT.\n",
            "\n",
            "Increase the number of iterations (max_iter) or scale the data as shown in:\n",
            "    https://scikit-learn.org/stable/modules/preprocessing.html\n",
            "  self.n_iter_ = _check_optimize_result(\"lbfgs\", opt_res, self.max_iter)\n",
            "/usr/local/lib/python3.6/dist-packages/sklearn/neural_network/_multilayer_perceptron.py:470: ConvergenceWarning: lbfgs failed to converge (status=1):\n",
            "STOP: TOTAL NO. of ITERATIONS REACHED LIMIT.\n",
            "\n",
            "Increase the number of iterations (max_iter) or scale the data as shown in:\n",
            "    https://scikit-learn.org/stable/modules/preprocessing.html\n",
            "  self.n_iter_ = _check_optimize_result(\"lbfgs\", opt_res, self.max_iter)\n",
            "/usr/local/lib/python3.6/dist-packages/sklearn/neural_network/_multilayer_perceptron.py:470: ConvergenceWarning: lbfgs failed to converge (status=2):\n",
            "ABNORMAL_TERMINATION_IN_LNSRCH.\n",
            "\n",
            "Increase the number of iterations (max_iter) or scale the data as shown in:\n",
            "    https://scikit-learn.org/stable/modules/preprocessing.html\n",
            "  self.n_iter_ = _check_optimize_result(\"lbfgs\", opt_res, self.max_iter)\n",
            "/usr/local/lib/python3.6/dist-packages/sklearn/neural_network/_multilayer_perceptron.py:470: ConvergenceWarning: lbfgs failed to converge (status=1):\n",
            "STOP: TOTAL NO. of ITERATIONS REACHED LIMIT.\n",
            "\n",
            "Increase the number of iterations (max_iter) or scale the data as shown in:\n",
            "    https://scikit-learn.org/stable/modules/preprocessing.html\n",
            "  self.n_iter_ = _check_optimize_result(\"lbfgs\", opt_res, self.max_iter)\n"
          ],
          "name": "stderr"
        },
        {
          "output_type": "execute_result",
          "data": {
            "text/plain": [
              "GridSearchCV(cv=5, error_score=nan,\n",
              "             estimator=MLPClassifier(activation='relu', alpha=0.0001,\n",
              "                                     batch_size='auto', beta_1=0.9,\n",
              "                                     beta_2=0.999, early_stopping=False,\n",
              "                                     epsilon=1e-08, hidden_layer_sizes=(100,),\n",
              "                                     learning_rate='constant',\n",
              "                                     learning_rate_init=0.001, max_fun=15000,\n",
              "                                     max_iter=200, momentum=0.9,\n",
              "                                     n_iter_no_change=10,\n",
              "                                     nesterovs_momentum=True, power_t=0.5,\n",
              "                                     random_state...\n",
              "                                     solver='adam', tol=0.0001,\n",
              "                                     validation_fraction=0.1, verbose=False,\n",
              "                                     warm_start=False),\n",
              "             iid='deprecated', n_jobs=None,\n",
              "             param_grid=[{'activation': ['identity', 'logistic', 'tanh',\n",
              "                                         'relu'],\n",
              "                          'hidden_layer_sizes': [10, 50, (50, 10)],\n",
              "                          'max_iter': [2000],\n",
              "                          'solver': ['lbfgs', 'sgd', 'adam']}],\n",
              "             pre_dispatch='2*n_jobs', refit=True, return_train_score=False,\n",
              "             scoring='accuracy', verbose=0)"
            ]
          },
          "metadata": {
            "tags": []
          },
          "execution_count": 55
        }
      ]
    },
    {
      "cell_type": "code",
      "metadata": {
        "id": "kOEsx9r8yad-",
        "colab_type": "code",
        "colab": {
          "base_uri": "https://localhost:8080/",
          "height": 34
        },
        "outputId": "7a2675bd-6a2f-4ecf-ccfe-14b0040e667c"
      },
      "source": [
        "#Mostrando combinação de parâmetros que apresentaram melhor acurácia\n",
        "print(classificador.best_params_)"
      ],
      "execution_count": null,
      "outputs": [
        {
          "output_type": "stream",
          "text": [
            "{'activation': 'logistic', 'hidden_layer_sizes': (50, 10), 'max_iter': 2000, 'solver': 'lbfgs'}\n"
          ],
          "name": "stdout"
        }
      ]
    },
    {
      "cell_type": "code",
      "metadata": {
        "id": "wVK_Bgz-ybwA",
        "colab_type": "code",
        "colab": {
          "base_uri": "https://localhost:8080/",
          "height": 34
        },
        "outputId": "80ed8d3c-2a27-4704-d9ea-a41906ab37e3"
      },
      "source": [
        "#Mostrando acurácia do classificador\n",
        "print(classificador.best_score_)"
      ],
      "execution_count": null,
      "outputs": [
        {
          "output_type": "stream",
          "text": [
            "0.7240718859429714\n"
          ],
          "name": "stdout"
        }
      ]
    },
    {
      "cell_type": "code",
      "metadata": {
        "id": "jGVSb62zyezD",
        "colab_type": "code",
        "colab": {
          "base_uri": "https://localhost:8080/",
          "height": 1000
        },
        "outputId": "1527edd5-008b-4d56-d301-f2d2e327d860"
      },
      "source": [
        "# Mostrando resultados\n",
        "classificador.cv_results_"
      ],
      "execution_count": null,
      "outputs": [
        {
          "output_type": "execute_result",
          "data": {
            "text/plain": [
              "{'mean_fit_time': array([ 0.58577638,  1.62461214,  1.59066048,  1.30065899,  3.36737633,\n",
              "         2.95395217,  1.5024272 ,  2.4845479 ,  3.46251535, 13.64809055,\n",
              "         0.26716332,  2.13621984, 42.71228986,  4.02794347,  4.63519893,\n",
              "        61.15456891,  0.53871894,  4.63884501, 16.46575589,  2.2590579 ,\n",
              "         2.52728972, 48.67658501,  5.93786135,  9.20975804, 77.02675719,\n",
              "         5.38542562,  8.33322587,  3.51026731,  2.7154635 ,  2.57120705,\n",
              "        16.15824809,  5.7956182 , 15.21145196, 26.64009137,  4.97714839,\n",
              "        10.81486177]),\n",
              " 'mean_score_time': array([0.00232458, 0.00228553, 0.00286031, 0.00269384, 0.00269709,\n",
              "        0.00273957, 0.00300117, 0.0029037 , 0.00293913, 0.00295067,\n",
              "        0.00297213, 0.00374947, 0.00596895, 0.00591679, 0.00610948,\n",
              "        0.00692377, 0.00702591, 0.00685983, 0.00328522, 0.00313349,\n",
              "        0.00311422, 0.00781584, 0.00633702, 0.00658236, 0.00886064,\n",
              "        0.00795469, 0.0081275 , 0.00267835, 0.00262938, 0.0026505 ,\n",
              "        0.00331941, 0.00338206, 0.00366096, 0.00413389, 0.00359521,\n",
              "        0.00551276]),\n",
              " 'mean_test_score': array([0.71117219, 0.63196353, 0.64756503, 0.71627219, 0.63516348,\n",
              "        0.64836478, 0.70817204, 0.64006413, 0.67326488, 0.71927204,\n",
              "        0.55815488, 0.64386428, 0.71427214, 0.55735053, 0.64646473,\n",
              "        0.72407189, 0.50305033, 0.64656498, 0.72117244, 0.63006253,\n",
              "        0.64736478, 0.71467179, 0.63376288, 0.66006513, 0.72087244,\n",
              "        0.63886398, 0.70037124, 0.72067164, 0.62346028, 0.64826468,\n",
              "        0.71757079, 0.63266353, 0.67987054, 0.72007164, 0.63766388,\n",
              "        0.70657134]),\n",
              " 'param_activation': masked_array(data=['identity', 'identity', 'identity', 'identity',\n",
              "                    'identity', 'identity', 'identity', 'identity',\n",
              "                    'identity', 'logistic', 'logistic', 'logistic',\n",
              "                    'logistic', 'logistic', 'logistic', 'logistic',\n",
              "                    'logistic', 'logistic', 'tanh', 'tanh', 'tanh', 'tanh',\n",
              "                    'tanh', 'tanh', 'tanh', 'tanh', 'tanh', 'relu', 'relu',\n",
              "                    'relu', 'relu', 'relu', 'relu', 'relu', 'relu', 'relu'],\n",
              "              mask=[False, False, False, False, False, False, False, False,\n",
              "                    False, False, False, False, False, False, False, False,\n",
              "                    False, False, False, False, False, False, False, False,\n",
              "                    False, False, False, False, False, False, False, False,\n",
              "                    False, False, False, False],\n",
              "        fill_value='?',\n",
              "             dtype=object),\n",
              " 'param_hidden_layer_sizes': masked_array(data=[10, 10, 10, 50, 50, 50, (50, 10), (50, 10), (50, 10),\n",
              "                    10, 10, 10, 50, 50, 50, (50, 10), (50, 10), (50, 10),\n",
              "                    10, 10, 10, 50, 50, 50, (50, 10), (50, 10), (50, 10),\n",
              "                    10, 10, 10, 50, 50, 50, (50, 10), (50, 10), (50, 10)],\n",
              "              mask=[False, False, False, False, False, False, False, False,\n",
              "                    False, False, False, False, False, False, False, False,\n",
              "                    False, False, False, False, False, False, False, False,\n",
              "                    False, False, False, False, False, False, False, False,\n",
              "                    False, False, False, False],\n",
              "        fill_value='?',\n",
              "             dtype=object),\n",
              " 'param_max_iter': masked_array(data=[2000, 2000, 2000, 2000, 2000, 2000, 2000, 2000, 2000,\n",
              "                    2000, 2000, 2000, 2000, 2000, 2000, 2000, 2000, 2000,\n",
              "                    2000, 2000, 2000, 2000, 2000, 2000, 2000, 2000, 2000,\n",
              "                    2000, 2000, 2000, 2000, 2000, 2000, 2000, 2000, 2000],\n",
              "              mask=[False, False, False, False, False, False, False, False,\n",
              "                    False, False, False, False, False, False, False, False,\n",
              "                    False, False, False, False, False, False, False, False,\n",
              "                    False, False, False, False, False, False, False, False,\n",
              "                    False, False, False, False],\n",
              "        fill_value='?',\n",
              "             dtype=object),\n",
              " 'param_solver': masked_array(data=['lbfgs', 'sgd', 'adam', 'lbfgs', 'sgd', 'adam',\n",
              "                    'lbfgs', 'sgd', 'adam', 'lbfgs', 'sgd', 'adam',\n",
              "                    'lbfgs', 'sgd', 'adam', 'lbfgs', 'sgd', 'adam',\n",
              "                    'lbfgs', 'sgd', 'adam', 'lbfgs', 'sgd', 'adam',\n",
              "                    'lbfgs', 'sgd', 'adam', 'lbfgs', 'sgd', 'adam',\n",
              "                    'lbfgs', 'sgd', 'adam', 'lbfgs', 'sgd', 'adam'],\n",
              "              mask=[False, False, False, False, False, False, False, False,\n",
              "                    False, False, False, False, False, False, False, False,\n",
              "                    False, False, False, False, False, False, False, False,\n",
              "                    False, False, False, False, False, False, False, False,\n",
              "                    False, False, False, False],\n",
              "        fill_value='?',\n",
              "             dtype=object),\n",
              " 'params': [{'activation': 'identity',\n",
              "   'hidden_layer_sizes': 10,\n",
              "   'max_iter': 2000,\n",
              "   'solver': 'lbfgs'},\n",
              "  {'activation': 'identity',\n",
              "   'hidden_layer_sizes': 10,\n",
              "   'max_iter': 2000,\n",
              "   'solver': 'sgd'},\n",
              "  {'activation': 'identity',\n",
              "   'hidden_layer_sizes': 10,\n",
              "   'max_iter': 2000,\n",
              "   'solver': 'adam'},\n",
              "  {'activation': 'identity',\n",
              "   'hidden_layer_sizes': 50,\n",
              "   'max_iter': 2000,\n",
              "   'solver': 'lbfgs'},\n",
              "  {'activation': 'identity',\n",
              "   'hidden_layer_sizes': 50,\n",
              "   'max_iter': 2000,\n",
              "   'solver': 'sgd'},\n",
              "  {'activation': 'identity',\n",
              "   'hidden_layer_sizes': 50,\n",
              "   'max_iter': 2000,\n",
              "   'solver': 'adam'},\n",
              "  {'activation': 'identity',\n",
              "   'hidden_layer_sizes': (50, 10),\n",
              "   'max_iter': 2000,\n",
              "   'solver': 'lbfgs'},\n",
              "  {'activation': 'identity',\n",
              "   'hidden_layer_sizes': (50, 10),\n",
              "   'max_iter': 2000,\n",
              "   'solver': 'sgd'},\n",
              "  {'activation': 'identity',\n",
              "   'hidden_layer_sizes': (50, 10),\n",
              "   'max_iter': 2000,\n",
              "   'solver': 'adam'},\n",
              "  {'activation': 'logistic',\n",
              "   'hidden_layer_sizes': 10,\n",
              "   'max_iter': 2000,\n",
              "   'solver': 'lbfgs'},\n",
              "  {'activation': 'logistic',\n",
              "   'hidden_layer_sizes': 10,\n",
              "   'max_iter': 2000,\n",
              "   'solver': 'sgd'},\n",
              "  {'activation': 'logistic',\n",
              "   'hidden_layer_sizes': 10,\n",
              "   'max_iter': 2000,\n",
              "   'solver': 'adam'},\n",
              "  {'activation': 'logistic',\n",
              "   'hidden_layer_sizes': 50,\n",
              "   'max_iter': 2000,\n",
              "   'solver': 'lbfgs'},\n",
              "  {'activation': 'logistic',\n",
              "   'hidden_layer_sizes': 50,\n",
              "   'max_iter': 2000,\n",
              "   'solver': 'sgd'},\n",
              "  {'activation': 'logistic',\n",
              "   'hidden_layer_sizes': 50,\n",
              "   'max_iter': 2000,\n",
              "   'solver': 'adam'},\n",
              "  {'activation': 'logistic',\n",
              "   'hidden_layer_sizes': (50, 10),\n",
              "   'max_iter': 2000,\n",
              "   'solver': 'lbfgs'},\n",
              "  {'activation': 'logistic',\n",
              "   'hidden_layer_sizes': (50, 10),\n",
              "   'max_iter': 2000,\n",
              "   'solver': 'sgd'},\n",
              "  {'activation': 'logistic',\n",
              "   'hidden_layer_sizes': (50, 10),\n",
              "   'max_iter': 2000,\n",
              "   'solver': 'adam'},\n",
              "  {'activation': 'tanh',\n",
              "   'hidden_layer_sizes': 10,\n",
              "   'max_iter': 2000,\n",
              "   'solver': 'lbfgs'},\n",
              "  {'activation': 'tanh',\n",
              "   'hidden_layer_sizes': 10,\n",
              "   'max_iter': 2000,\n",
              "   'solver': 'sgd'},\n",
              "  {'activation': 'tanh',\n",
              "   'hidden_layer_sizes': 10,\n",
              "   'max_iter': 2000,\n",
              "   'solver': 'adam'},\n",
              "  {'activation': 'tanh',\n",
              "   'hidden_layer_sizes': 50,\n",
              "   'max_iter': 2000,\n",
              "   'solver': 'lbfgs'},\n",
              "  {'activation': 'tanh',\n",
              "   'hidden_layer_sizes': 50,\n",
              "   'max_iter': 2000,\n",
              "   'solver': 'sgd'},\n",
              "  {'activation': 'tanh',\n",
              "   'hidden_layer_sizes': 50,\n",
              "   'max_iter': 2000,\n",
              "   'solver': 'adam'},\n",
              "  {'activation': 'tanh',\n",
              "   'hidden_layer_sizes': (50, 10),\n",
              "   'max_iter': 2000,\n",
              "   'solver': 'lbfgs'},\n",
              "  {'activation': 'tanh',\n",
              "   'hidden_layer_sizes': (50, 10),\n",
              "   'max_iter': 2000,\n",
              "   'solver': 'sgd'},\n",
              "  {'activation': 'tanh',\n",
              "   'hidden_layer_sizes': (50, 10),\n",
              "   'max_iter': 2000,\n",
              "   'solver': 'adam'},\n",
              "  {'activation': 'relu',\n",
              "   'hidden_layer_sizes': 10,\n",
              "   'max_iter': 2000,\n",
              "   'solver': 'lbfgs'},\n",
              "  {'activation': 'relu',\n",
              "   'hidden_layer_sizes': 10,\n",
              "   'max_iter': 2000,\n",
              "   'solver': 'sgd'},\n",
              "  {'activation': 'relu',\n",
              "   'hidden_layer_sizes': 10,\n",
              "   'max_iter': 2000,\n",
              "   'solver': 'adam'},\n",
              "  {'activation': 'relu',\n",
              "   'hidden_layer_sizes': 50,\n",
              "   'max_iter': 2000,\n",
              "   'solver': 'lbfgs'},\n",
              "  {'activation': 'relu',\n",
              "   'hidden_layer_sizes': 50,\n",
              "   'max_iter': 2000,\n",
              "   'solver': 'sgd'},\n",
              "  {'activation': 'relu',\n",
              "   'hidden_layer_sizes': 50,\n",
              "   'max_iter': 2000,\n",
              "   'solver': 'adam'},\n",
              "  {'activation': 'relu',\n",
              "   'hidden_layer_sizes': (50, 10),\n",
              "   'max_iter': 2000,\n",
              "   'solver': 'lbfgs'},\n",
              "  {'activation': 'relu',\n",
              "   'hidden_layer_sizes': (50, 10),\n",
              "   'max_iter': 2000,\n",
              "   'solver': 'sgd'},\n",
              "  {'activation': 'relu',\n",
              "   'hidden_layer_sizes': (50, 10),\n",
              "   'max_iter': 2000,\n",
              "   'solver': 'adam'}],\n",
              " 'rank_test_score': array([11, 31, 20,  8, 28, 18, 12, 25, 16,  6, 34, 24, 10, 35, 23,  1, 36,\n",
              "        22,  2, 32, 21,  9, 29, 17,  3, 26, 14,  4, 33, 19,  7, 30, 15,  5,\n",
              "        27, 13], dtype=int32),\n",
              " 'split0_test_score': array([0.7075, 0.633 , 0.646 , 0.7085, 0.6335, 0.656 , 0.7085, 0.635 ,\n",
              "        0.648 , 0.725 , 0.5135, 0.6455, 0.7125, 0.519 , 0.648 , 0.728 ,\n",
              "        0.503 , 0.647 , 0.721 , 0.6335, 0.6475, 0.7135, 0.633 , 0.6835,\n",
              "        0.7195, 0.635 , 0.698 , 0.712 , 0.6255, 0.652 , 0.722 , 0.641 ,\n",
              "        0.7005, 0.7255, 0.637 , 0.701 ]),\n",
              " 'split1_test_score': array([0.718 , 0.631 , 0.653 , 0.72  , 0.6395, 0.6565, 0.718 , 0.647 ,\n",
              "        0.71  , 0.719 , 0.554 , 0.6475, 0.721 , 0.626 , 0.6495, 0.728 ,\n",
              "        0.503 , 0.648 , 0.71  , 0.634 , 0.6545, 0.7205, 0.6385, 0.662 ,\n",
              "        0.7315, 0.6425, 0.72  , 0.725 , 0.6435, 0.652 , 0.7175, 0.6335,\n",
              "        0.6605, 0.722 , 0.642 , 0.7115]),\n",
              " 'split2_test_score': array([0.697 , 0.6315, 0.652 , 0.7055, 0.6415, 0.641 , 0.719 , 0.6455,\n",
              "        0.704 , 0.718 , 0.5875, 0.65  , 0.706 , 0.6085, 0.6495, 0.721 ,\n",
              "        0.503 , 0.6485, 0.718 , 0.631 , 0.6495, 0.7085, 0.6425, 0.6545,\n",
              "        0.7115, 0.6445, 0.66  , 0.725 , 0.6235, 0.654 , 0.717 , 0.626 ,\n",
              "        0.688 , 0.721 , 0.642 , 0.6965]),\n",
              " 'split3_test_score': array([0.7115, 0.629 , 0.6365, 0.7255, 0.6265, 0.6405, 0.675 , 0.6315,\n",
              "        0.6555, 0.714 , 0.587 , 0.6335, 0.7105, 0.528 , 0.638 , 0.7245,\n",
              "        0.503 , 0.6395, 0.7325, 0.6265, 0.6375, 0.713 , 0.626 , 0.649 ,\n",
              "        0.7175, 0.6325, 0.7115, 0.725 , 0.622 , 0.6365, 0.7235, 0.6275,\n",
              "        0.645 , 0.7155, 0.6285, 0.7105]),\n",
              " 'split4_test_score': array([0.72186093, 0.63531766, 0.65032516, 0.72186093, 0.63481741,\n",
              "        0.64782391, 0.72036018, 0.64132066, 0.64882441, 0.72036018,\n",
              "        0.54877439, 0.64282141, 0.72136068, 0.50525263, 0.64732366,\n",
              "        0.71885943, 0.50325163, 0.64982491, 0.72436218, 0.62531266,\n",
              "        0.64782391, 0.71785893, 0.62881441, 0.65132566, 0.72436218,\n",
              "        0.63981991, 0.71235618, 0.71635818, 0.6028014 , 0.64682341,\n",
              "        0.70785393, 0.63531766, 0.70535268, 0.71635818, 0.63881941,\n",
              "        0.71335668]),\n",
              " 'std_fit_time': array([ 0.22699227,  0.29118906,  0.27370205,  0.35271399,  0.47583644,\n",
              "         1.04073004,  0.47499621,  0.29523925,  2.16223752,  0.30948156,\n",
              "         0.04235641,  0.17398804, 14.57292651,  5.90868086,  0.54840467,\n",
              "         1.49940535,  0.0420172 ,  0.6026671 ,  0.17538557,  0.3447298 ,\n",
              "         0.33739698, 18.46434242,  0.66320997,  4.1921508 ,  1.56141521,\n",
              "         0.79919307,  2.48344021,  2.82249494,  0.51681263,  0.18666992,\n",
              "        10.10314913,  0.46692731,  7.16002383,  8.8866589 ,  0.28000572,\n",
              "         3.59134255]),\n",
              " 'std_score_time': array([7.96108161e-05, 2.31074588e-04, 9.93372422e-04, 1.61884101e-04,\n",
              "        6.60572826e-05, 6.62995043e-05, 1.16475067e-04, 2.17879729e-04,\n",
              "        2.11881002e-04, 4.34542307e-05, 8.50856459e-04, 1.16926478e-03,\n",
              "        1.22952034e-04, 3.83329033e-05, 2.65832717e-04, 1.33611065e-04,\n",
              "        8.62130792e-04, 3.89029266e-04, 7.96622658e-05, 3.92590964e-04,\n",
              "        4.39545585e-04, 9.04551266e-04, 3.54436623e-05, 9.05395111e-05,\n",
              "        1.36632976e-04, 8.39740232e-04, 1.17284705e-03, 3.53611178e-04,\n",
              "        8.53797892e-04, 8.77516881e-04, 4.81207844e-05, 1.16548269e-04,\n",
              "        3.57437159e-04, 4.55900099e-04, 3.10781521e-05, 1.98309896e-03]),\n",
              " 'std_test_score': array([0.00866385, 0.00210951, 0.00602844, 0.00783237, 0.00523258,\n",
              "        0.00694069, 0.01710483, 0.00597032, 0.02773214, 0.00356315,\n",
              "        0.02754085, 0.00569293, 0.00602178, 0.04975023, 0.00431676,\n",
              "        0.0036783 , 0.00010065, 0.00364785, 0.00739467, 0.00356235,\n",
              "        0.00553197, 0.00415656, 0.0060681 , 0.01251178, 0.00672641,\n",
              "        0.00450177, 0.02139269, 0.00547736, 0.01292033, 0.00634483,\n",
              "        0.00546849, 0.0054462 , 0.02337595, 0.00370775, 0.00496702,\n",
              "        0.00660664])}"
            ]
          },
          "metadata": {
            "tags": []
          },
          "execution_count": 58
        }
      ]
    },
    {
      "cell_type": "markdown",
      "metadata": {
        "id": "2jPFvjRlTcVm",
        "colab_type": "text"
      },
      "source": [
        "# 8. Predição"
      ]
    },
    {
      "cell_type": "code",
      "metadata": {
        "id": "B96tWtRPT8NO",
        "colab_type": "code",
        "colab": {}
      },
      "source": [
        "#Realizando classificação\n",
        "classificacao = classificador.predict(X_test)"
      ],
      "execution_count": null,
      "outputs": []
    },
    {
      "cell_type": "code",
      "metadata": {
        "id": "__x1UqLqVG_6",
        "colab_type": "code",
        "colab": {
          "base_uri": "https://localhost:8080/",
          "height": 34
        },
        "outputId": "403fcf25-7227-4061-a3d4-79a0f5b51dd3"
      },
      "source": [
        "#Mostrando acurácia mais uma vez\n",
        "acuracia = accuracy_score(y_test,classificacao)\n",
        "round(acuracia,3)"
      ],
      "execution_count": null,
      "outputs": [
        {
          "output_type": "execute_result",
          "data": {
            "text/plain": [
              "0.726"
            ]
          },
          "metadata": {
            "tags": []
          },
          "execution_count": 59
        }
      ]
    },
    {
      "cell_type": "code",
      "metadata": {
        "id": "UKNNLHRTio6I",
        "colab_type": "code",
        "colab": {
          "base_uri": "https://localhost:8080/",
          "height": 34
        },
        "outputId": "5ae4cab3-84ad-4055-e20d-755a593fe583"
      },
      "source": [
        "#calculando precisão\n",
        "precisao = precision_score(y_test,classificacao)\n",
        "round(precisao,3)"
      ],
      "execution_count": null,
      "outputs": [
        {
          "output_type": "execute_result",
          "data": {
            "text/plain": [
              "0.736"
            ]
          },
          "metadata": {
            "tags": []
          },
          "execution_count": 60
        }
      ]
    },
    {
      "cell_type": "code",
      "metadata": {
        "id": "G_fPSjf1irIY",
        "colab_type": "code",
        "colab": {
          "base_uri": "https://localhost:8080/",
          "height": 34
        },
        "outputId": "a55ce3ef-40a6-4ef4-a12f-40bcf5af79d2"
      },
      "source": [
        "#Calculando recall\n",
        "recall = recall_score(y_test,classificacao)\n",
        "round(recall,3)"
      ],
      "execution_count": null,
      "outputs": [
        {
          "output_type": "execute_result",
          "data": {
            "text/plain": [
              "0.713"
            ]
          },
          "metadata": {
            "tags": []
          },
          "execution_count": 61
        }
      ]
    },
    {
      "cell_type": "code",
      "metadata": {
        "id": "8Lhq098Eixaj",
        "colab_type": "code",
        "colab": {
          "base_uri": "https://localhost:8080/",
          "height": 34
        },
        "outputId": "773ed75a-08f0-483e-b416-d2ee4d11c980"
      },
      "source": [
        "#Calculando f1-score\n",
        "f1 = f1_score(y_test,classificacao)\n",
        "round(f1,3)"
      ],
      "execution_count": null,
      "outputs": [
        {
          "output_type": "execute_result",
          "data": {
            "text/plain": [
              "0.724"
            ]
          },
          "metadata": {
            "tags": []
          },
          "execution_count": 62
        }
      ]
    },
    {
      "cell_type": "code",
      "metadata": {
        "id": "9B4RHPjeY5yW",
        "colab_type": "code",
        "colab": {}
      },
      "source": [
        "fpr, tpr, _ = roc_curve(y_test,classificacao)"
      ],
      "execution_count": null,
      "outputs": []
    },
    {
      "cell_type": "code",
      "metadata": {
        "id": "-XeRx5yYY9n0",
        "colab_type": "code",
        "colab": {
          "base_uri": "https://localhost:8080/",
          "height": 34
        },
        "outputId": "d3eb303f-2143-48ee-f5bd-f4825cc5ee78"
      },
      "source": [
        "#Calculando falso positivo\n",
        "fpr"
      ],
      "execution_count": null,
      "outputs": [
        {
          "output_type": "execute_result",
          "data": {
            "text/plain": [
              "array([0.        , 0.26188069, 1.        ])"
            ]
          },
          "metadata": {
            "tags": []
          },
          "execution_count": 38
        }
      ]
    },
    {
      "cell_type": "code",
      "metadata": {
        "id": "1KIg1MrRZCx4",
        "colab_type": "code",
        "colab": {
          "base_uri": "https://localhost:8080/",
          "height": 34
        },
        "outputId": "b6f23b98-db84-462c-88ed-7ae624b9517a"
      },
      "source": [
        "#calculando verdadeiro positivo\n",
        "tpr"
      ],
      "execution_count": null,
      "outputs": [
        {
          "output_type": "execute_result",
          "data": {
            "text/plain": [
              "array([0.        , 0.71315529, 1.        ])"
            ]
          },
          "metadata": {
            "tags": []
          },
          "execution_count": 39
        }
      ]
    },
    {
      "cell_type": "markdown",
      "metadata": {
        "id": "WwluzzoDqRbA",
        "colab_type": "text"
      },
      "source": [
        "**ANÁLISE:** A taxa de falso positivo é mais baixa de que verdadeiro positivo, entretanto, quando se trata do desempenho do modelo, não foi boa. A taxa de verdadeiros positivos deveria ser maior."
      ]
    },
    {
      "cell_type": "code",
      "metadata": {
        "id": "XSayx8lXZIeS",
        "colab_type": "code",
        "colab": {
          "base_uri": "https://localhost:8080/",
          "height": 294
        },
        "outputId": "a38fcde4-cc38-4cba-dd9a-31afe045d457"
      },
      "source": [
        "#Criando curva ROC\n",
        "plt.plot(fpr,tpr,marker='.')\n",
        "plt.title('Curva ROC')\n",
        "plt.xlabel('Taxa de Falsos Positivos')\n",
        "plt.ylabel('Taxa de Verdadeiro Positivos')\n",
        "plt.show()"
      ],
      "execution_count": null,
      "outputs": [
        {
          "output_type": "display_data",
          "data": {
            "image/png": "[encoded data removed]",
            "text/plain": [
              "<Figure size 432x288 with 1 Axes>"
            ]
          },
          "metadata": {
            "tags": [],
            "needs_background": "light"
          }
        }
      ]
    },
    {
      "cell_type": "code",
      "metadata": {
        "id": "WHG_whtHjTrV",
        "colab_type": "code",
        "colab": {
          "base_uri": "https://localhost:8080/",
          "height": 34
        },
        "outputId": "378618b8-0691-4492-d342-81fefd011d46"
      },
      "source": [
        "#Calculando área sob a curva\n",
        "auc = roc_auc_score(y_test,classificacao)\n",
        "round(auc,3)"
      ],
      "execution_count": null,
      "outputs": [
        {
          "output_type": "execute_result",
          "data": {
            "text/plain": [
              "0.726"
            ]
          },
          "metadata": {
            "tags": []
          },
          "execution_count": 63
        }
      ]
    },
    {
      "cell_type": "markdown",
      "metadata": {
        "id": "TNZFzuucrmnL",
        "colab_type": "text"
      },
      "source": [
        "**CONSIDERAÇÕES FINAIS:** COMPARANDO O DESEMPENHO DOS DOIS ALGORITMOS UTILIZADOS ATÉ AGORA PARA ESSE DATASET (ÁRVORE DE DECISÃO COM RANDOM FOREST NA ATIVIDADE ANTERIOR E REDES NEURAIS), PODEMOS CONCLUIR QUE EM AMBAS A TAXA DE APRENDIZADO NÃO FOI TÃO POSITIVA. DESDE A ANÁLISE PRELIMINAR É POSSÍVEL NOTAR QUE OS DADOS APRESENTAM BAIXA CORRELAÇÃO, TORNANDO DIFÍCIL DETERMINAR QUAIS PACIENTES APRESENTAM OU NÃO ALGUMA DOENÇA CARDIOVASCULAR. CONTUDO, A ACURÁCIA PARA REDES NEURAIS DEVERIA SEM MAIOR QUE 0.726."
      ]
    },
    {
      "cell_type": "code",
      "metadata": {
        "id": "KSRVpi9XtKzK",
        "colab_type": "code",
        "colab": {}
      },
      "source": [
        ""
      ],
      "execution_count": null,
      "outputs": []
    }
  ]
}